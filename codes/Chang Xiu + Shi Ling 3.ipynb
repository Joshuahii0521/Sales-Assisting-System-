{
 "cells": [
  {
   "cell_type": "markdown",
   "id": "39028707",
   "metadata": {},
   "source": [
    "----- Chang Xiu ------"
   ]
  },
  {
   "cell_type": "code",
   "execution_count": 7,
   "id": "316dde6d",
   "metadata": {},
   "outputs": [],
   "source": [
    "###########Function#####################\n",
    "import pandas as pd\n",
    "import numpy as np\n",
    "\n",
    "from sklearn.model_selection import train_test_split\n",
    "from imblearn.over_sampling import SMOTENC\n",
    "from sklearn import preprocessing\n",
    "from sklearn.linear_model import LogisticRegression\n",
    "from sklearn.metrics import roc_auc_score\n",
    "from scipy import spatial\n",
    "from sklearn.neighbors import KDTree\n",
    "\n",
    "def oversample(df, numericColumn, itemColumns):\n",
    "  \"\"\"\n",
    "  Purpose: To make the item class balance\n",
    "  Input: a data frame, numericColumn indicate which column is numeric, itemColumns indicating which column is the item class\n",
    "  Output: data frame with balance class\n",
    "  \"\"\"\n",
    "  \n",
    "  nonItemColumns = [i for i in list(df.columns) if i not in itemColumns]\n",
    "  output = pd.DataFrame()\n",
    "  categoricalColumn = set(df.columns) - set(numericColumn) - set(itemColumns)\n",
    "  \n",
    "  for i in range(0, len(itemColumns)):\n",
    "    temp = pd.concat([df[nonItemColumns], df[itemColumns[i]]], axis = 1).dropna()\n",
    "    smote = SMOTENC(categorical_features = [temp[nonItemColumns].columns.get_loc(i) for i in categoricalColumn])\n",
    "    x_smote, y_smote = smote.fit_resample(temp[nonItemColumns], temp[itemColumns[i]])\n",
    "    output = pd.concat([output, pd.concat([x_smote, y_smote], axis = 1)], axis = 0)\n",
    "  return output\n",
    "  \n",
    "  "
   ]
  },
  {
   "cell_type": "code",
   "execution_count": 8,
   "id": "91b707a9",
   "metadata": {},
   "outputs": [],
   "source": [
    "def MBRS_fit(df, numericColumn, itemColumns):\n",
    "  \"\"\"\n",
    "  Purpose:Train the model-based recommendation system\n",
    "  Input: a data frame, numericColumn indicate which column is numeric, itemColumns indicating which column is the item to be recommended\n",
    "  Output: a set of model with a scaler to normalize data and a classifier for each item that predict whether a user will buy the item\n",
    "  \"\"\"\n",
    "  \n",
    "  model = {}\n",
    "  df = df.copy()\n",
    "  nonItemColumns = [i for i in list(df.columns) if i not in itemColumns]\n",
    "  \n",
    "  #Normalization\n",
    "  model['scaler'] = preprocessing.StandardScaler().fit(df[numericColumn])\n",
    "  df[numericColumn] = model['scaler'].transform(df[numericColumn])\n",
    "\n",
    "  #Training\n",
    "  for i in range(0, len(itemColumns)):\n",
    "    \n",
    "    #subset data frame by removing item column not in question\n",
    "    item = itemColumns[i]\n",
    "    temp_itemColumns = itemColumns.copy()\n",
    "    temp_itemColumns.remove(item)\n",
    "    temp_df = df.drop(temp_itemColumns, axis = 1).dropna()\n",
    "    \n",
    "    #Train the model\n",
    "    clf = LogisticRegression(max_iter = 10000)\n",
    "    clf = clf.fit(temp_df[nonItemColumns], temp_df[item])\n",
    "    \n",
    "    #Store the model\n",
    "    model[item] = clf\n",
    "  \n",
    "  return model"
   ]
  },
  {
   "cell_type": "code",
   "execution_count": 9,
   "id": "3362588a",
   "metadata": {},
   "outputs": [],
   "source": [
    "def MBRS_predict(df, numericColumn, itemColumns, model):\n",
    "  \"\"\"\n",
    "  Purpose: Predict and recommend using the model given\n",
    "  Input: a data frame, numericColumn indicate which column is numeric, itemColumns indicating which column is the item to be recommended, a set of model\n",
    "  Output: original input data frame with the additional column of predicted class and probability for buying each item and recommendation for each user\n",
    "  \"\"\"\n",
    "  \n",
    "  nonItemColumns = [i for i in list(df.columns) if i not in itemColumns]\n",
    "  df = df.dropna(subset = nonItemColumns).copy()\n",
    "  prediction_df = pd.DataFrame(columns = [i + \"_predclass\" for i in itemColumns] + [i + \"_prob\" for i in itemColumns] + [\"Recommendation\"], index = df.index)\n",
    "  \n",
    "  #Normalization\n",
    "  df[numericColumn] = model['scaler'].transform(df[numericColumn])\n",
    "\n",
    "  #Predict\n",
    "  for j in range(0, len(itemColumns)):\n",
    "    item = itemColumns[j]\n",
    "    prediction_df[item + \"_prob\"] = pd.DataFrame(model[item].predict_proba(df[nonItemColumns]), index = df.index)[1]\n",
    "    prediction_df[item + \"_predclass\"] = pd.DataFrame(model[item].predict(df[nonItemColumns]), index = df.index)[0]\n",
    "    \n",
    "  #Recommend  \n",
    "  prediction_df[\"Recommendation\"] = prediction_df[[i + \"_prob\" for i in itemColumns]].idxmax(axis = 1) # Select the item column with max probability\n",
    "  prediction_df[\"Recommendation\"] = prediction_df[\"Recommendation\"].str.replace(\"_prob\", \"\")\n",
    "  \n",
    "  return pd.concat([df, prediction_df], axis = 1)"
   ]
  },
  {
   "cell_type": "code",
   "execution_count": 10,
   "id": "eacf2a64-8294-42ed-8781-61ab67b0db0b",
   "metadata": {},
   "outputs": [],
   "source": [
    "def NBRS_fit(df, k, numericColumn, itemColumns):\n",
    "    model = {}\n",
    "    df = df.copy()\n",
    "    nonItemColumns = [i for i in list(df.columns) if i not in itemColumns]\n",
    "    \n",
    "    #Normalization\n",
    "    model['scaler'] = preprocessing.StandardScaler().fit(df[numericColumn])\n",
    "    df[numericColumn] = model['scaler'].transform(df[numericColumn])\n",
    "    \n",
    "    #Train the model\n",
    "    model['Neighbour'] = df\n",
    "    model['k'] = k\n",
    "    for item in itemColumns:\n",
    "        model[item + '_tree'] = KDTree(df[df[item].notna()][nonItemColumns], metric = \"euclidean\")\n",
    "    return model\n",
    "    "
   ]
  },
  {
   "cell_type": "code",
   "execution_count": 11,
   "id": "b0a52ecf-6e34-4cc3-b2eb-c1479bb434ef",
   "metadata": {},
   "outputs": [],
   "source": [
    "def NBRS_predict(df, numericColumn, itemColumns, model):\n",
    "    \n",
    "    nonItemColumns = [i for i in list(df.columns) if i not in itemColumns]\n",
    "    df = df.dropna(subset = nonItemColumns).copy()\n",
    "    prediction_df = pd.DataFrame(columns = [i + \"_predclass\" for i in itemColumns] + [i + \"_rating\" for i in itemColumns] + [\"Recommendation\"], index = df.index)\n",
    "    prediction_df = prediction_df.astype(\"float64\")\n",
    "    df = pd.concat([df, prediction_df], axis = 1)\n",
    "    df = df.reset_index()\n",
    "    \n",
    "    #Fix missing dummies column\n",
    "    missing_cols = set(model['Neighbour'].columns) - set(df.columns)\n",
    "    \n",
    "    #Normalization\n",
    "    df[numericColumn] = model['scaler'].transform(df[numericColumn])\n",
    "    \n",
    "    #Predict\n",
    "    for item in itemColumns:\n",
    "        dist, ind = model[item + '_tree'].query(df[nonItemColumns], k = model['k'])\n",
    "        for i in range(0, len(ind)):\n",
    "            item_neighbour = model['Neighbour'][model['Neighbour'][item].notna()].iloc[ind[i].tolist()]\n",
    "            item_neighbour['Similarity'] = 1 /  (1 + dist[i])\n",
    "            pred_rating = np.dot(item_neighbour[item], item_neighbour['Similarity']) / np.sum(item_neighbour['Similarity'])\n",
    "            df.at[i, item + \"_predclass\"] = round(pred_rating,0)\n",
    "            df.at[i, item + \"_rating\"] = pred_rating\n",
    "    \n",
    "    df[\"Recommendation\"] = df[[i + \"_rating\" for i in itemColumns]].idxmax(axis = 1) # Select the item column with max probability\n",
    "    df[\"Recommendation\"] = df[\"Recommendation\"].str.replace(\"_rating\", \"\")\n",
    "    return df\n",
    "\n",
    "    "
   ]
  },
  {
   "cell_type": "code",
   "execution_count": 12,
   "id": "9ffc15c7",
   "metadata": {},
   "outputs": [],
   "source": [
    "#remove PitchSatisfactionScore from numeric columns\n",
    "numericColumn = ['NumberOfChildrenVisiting', 'NumberOfTrips', 'MonthlyIncome', 'NumberOfPersonVisiting', 'NumberOfFollowups', 'DurationOfPitch', 'Age']\n",
    "itemColumns = ['Basic', 'Standard', 'Deluxe', 'Super Deluxe', 'King']\n",
    "#working_directory = \"Dropbox\\WQD 7006 Machine Learning\" #Set your working directory here"
   ]
  },
  {
   "cell_type": "code",
   "execution_count": 13,
   "id": "b7acf43a-5a28-4390-92e2-5798de64c9f8",
   "metadata": {},
   "outputs": [],
   "source": [
    "##################Cleaning##################\n",
    "df = pd.read_csv(\"cleaned data set.csv\") #read Josuha's cleaned data\n",
    "\n",
    "#drop PitchSatisfactionScore\n",
    "del df['PitchSatisfactionScore']\n",
    "\n",
    "#Recode\n",
    "df['TypeofContact'] = np.where(df['TypeofContact'] == 'Self Enquiry', 1, np.where(df['TypeofContact'] == 'Company Invited',0, None))\n",
    "df['Occupation'] = np.where(df['Occupation'] == 'Small Business', 0, np.where(df['Occupation'] == 'Free Lancer',1, np.where(df['Occupation'] == 'Salaried',2, np.where(df['Occupation'] == 'Large Business',3, None))))\n",
    "df['Gender'] = np.where(df['Gender'] == 'Male', 0, np.where(df['Gender'] == 'Female',1, np.where(df['Gender'] == 'Fe Male', 1, None)))\n",
    "df['MaritalStatus'] = np.where(df['MaritalStatus'] == 'Divorced', 0,np.where(df['MaritalStatus'] == 'Single', 1, np.where(df['MaritalStatus'] == 'Unmarried', 2, np.where(df['MaritalStatus'] == 'Married', 3, None))))\n",
    "df['Designation'] = np.where(df['Designation'] == 'Executive', 0,np.where(df['Designation'] == 'Manager', 1, np.where(df['Designation'] == 'Senior Manager', 2, np.where(df['Designation'] == 'AVP', 3, np.where(df['Designation'] == 'VP', 4, None)))))\n",
    "\n",
    "df_train, df_test = train_test_split(df, test_size = 0.2)\n",
    "\n",
    "#df_train.to_csv(\"cleaned_df_train.csv\", index = False)\n",
    "#df_test.to_csv(\"cleaned_df_test.csv\", index = False)"
   ]
  },
  {
   "cell_type": "code",
   "execution_count": 14,
   "id": "844a1039",
   "metadata": {},
   "outputs": [],
   "source": [
    "##################Spreading###################\n",
    "\n",
    "df_train = pd.concat([df_train, df_train.pivot(columns = 'ProductPitched', values = \"ProdTaken\")], axis = 1)\n",
    "df_train = df_train.drop([\"ProdTaken\", \"ProductPitched\", \"Agebin\", \"Incomebin\"], axis = 1)\n",
    "#df.to_csv(\"cleaned_spreaded_df_train.csv\", index = False)\n",
    "\n",
    "\n",
    "df_test = pd.concat([df_test, df_test.pivot(columns = 'ProductPitched', values = \"ProdTaken\")], axis = 1)\n",
    "df_test = df_test.drop([\"ProdTaken\", \"ProductPitched\", \"Agebin\", \"Incomebin\"], axis = 1)\n",
    "#df.to_csv(\"cleaned_spreaded_df_test.csv\", index = False)\n"
   ]
  },
  {
   "cell_type": "code",
   "execution_count": 15,
   "id": "f2220784",
   "metadata": {},
   "outputs": [],
   "source": [
    "#########Training############\n",
    "#df_train = pd.read_csv(\"cleaned_spreaded_df_train.csv\")\n",
    "\n",
    "#Dummy Coding\n",
    "df_train = pd.get_dummies(df_train, columns = ['CityTier', 'Occupation','PreferredPropertyStar','MaritalStatus','Designation'])\n",
    "\n",
    "\n",
    "#Oversample\n",
    "[df_train[[i]].value_counts() for i in itemColumns]\n",
    "df_train = oversample(df_train, numericColumn, itemColumns)\n",
    "[df_train[[i]].value_counts() for i in itemColumns]\n",
    "\n",
    "#Train\n",
    "MBRS_model = MBRS_fit(df_train, numericColumn ,itemColumns)\n",
    "NBRS_model = NBRS_fit(df_train, 9, numericColumn ,itemColumns)\n"
   ]
  },
  {
   "cell_type": "code",
   "execution_count": 16,
   "id": "dfb9f8cf-abf6-4c91-9d50-d742fb3edb1b",
   "metadata": {},
   "outputs": [],
   "source": [
    "##########Testing##################\n",
    "#df_test = pd.read_csv(\"cleaned_spreaded_df_train.csv\") #PLEASE CHANGE THIS\n",
    "df_test = pd.get_dummies(df_test, columns = ['CityTier', 'Occupation','PreferredPropertyStar','MaritalStatus','Designation'])\n",
    "\n",
    "#Fix missing dummies column\n",
    "missing_cols = set(df_train[[i for i in list(df_train.columns) if i not in itemColumns]].columns) - set(df_test[[i for i in list(df_test.columns) if i not in itemColumns]].columns)\n",
    "\n",
    "for c in missing_cols:\n",
    "  df_test[c] = 0\n"
   ]
  },
  {
   "cell_type": "code",
   "execution_count": 17,
   "id": "65902a52",
   "metadata": {},
   "outputs": [],
   "source": [
    "list(df_test)\n",
    "\n",
    "#reorder columns\n",
    "df_test = df_test [['Age', 'TypeofContact', 'DurationOfPitch', 'Gender', 'NumberOfPersonVisiting', 'NumberOfFollowups', 'NumberOfTrips',\n",
    " 'Passport', 'OwnCar', 'NumberOfChildrenVisiting', 'MonthlyIncome', 'CityTier_1', 'CityTier_2', 'CityTier_3', 'Occupation_0',\n",
    " 'Occupation_1', 'Occupation_2', 'Occupation_3', 'PreferredPropertyStar_3.0', 'PreferredPropertyStar_4.0', 'PreferredPropertyStar_5.0',\n",
    " 'MaritalStatus_0', 'MaritalStatus_1', 'MaritalStatus_2', 'MaritalStatus_3', 'Designation_0', 'Designation_1', 'Designation_2',\n",
    " 'Designation_3', 'Designation_4', 'Basic', 'Standard', 'Deluxe', 'Super Deluxe', 'King']]"
   ]
  },
  {
   "cell_type": "code",
   "execution_count": 18,
   "id": "0eb8ffd0",
   "metadata": {},
   "outputs": [
    {
     "name": "stdout",
     "output_type": "stream",
     "text": [
      "--- 0.04553818702697754 seconds ---\n",
      "--- 4.076427698135376 seconds ---\n"
     ]
    }
   ],
   "source": [
    "import time\n",
    "start_time = time.time()\n",
    "prediction_df_MBRS = MBRS_predict(df_test, numericColumn, itemColumns, MBRS_model)\n",
    "print(\"--- %s seconds ---\" % (time.time() - start_time))\n",
    "start_time = time.time()\n",
    "prediction_df_NBRS = NBRS_predict(df_test, numericColumn, itemColumns, NBRS_model)\n",
    "print(\"--- %s seconds ---\" % (time.time() - start_time))"
   ]
  },
  {
   "cell_type": "code",
   "execution_count": 22,
   "id": "1eb2251d-bca7-4da9-829a-534fa0b3c6aa",
   "metadata": {},
   "outputs": [],
   "source": [
    "#prediction_df_NBRS.to_csv(\"prediction_df_kNN.csv\", index = False)"
   ]
  },
  {
   "cell_type": "markdown",
   "id": "851f77bf",
   "metadata": {},
   "source": [
    "--- Shi Ling ----"
   ]
  },
  {
   "cell_type": "markdown",
   "id": "6ff31e08",
   "metadata": {},
   "source": [
    "NOT TO USE\n",
    "#Use test dataset\n",
    "#df = pd.read_csv(\"cleaned_spreaded_df_test.csv\")\n",
    "\n",
    "df = pd.get_dummies(df_test, columns = ['CityTier', 'Occupation','PreferredPropertyStar','MaritalStatus','Designation'])\n",
    "\n",
    "prediction_df = MBRS_predict(df, numericColumn, itemColumns, model)\n",
    "prediction_df = prediction_df_NBRS\n",
    "roc_df = prediction_df[['Basic','Basic_predclass','Basic_prob']].dropna()\n",
    "roc_auc_score(roc_df['Basic'], roc_df['Basic_prob'])"
   ]
  },
  {
   "cell_type": "code",
   "execution_count": 19,
   "id": "c1468212",
   "metadata": {},
   "outputs": [
    {
     "data": {
      "image/png": "[encoded data removed]",
      "text/plain": [
       "<Figure size 288x288 with 2 Axes>"
      ]
     },
     "metadata": {
      "needs_background": "light"
     },
     "output_type": "display_data"
    },
    {
     "ename": "NameError",
     "evalue": "name 'classification_report' is not defined",
     "output_type": "error",
     "traceback": [
      "\u001b[1;31m---------------------------------------------------------------------------\u001b[0m",
      "\u001b[1;31mNameError\u001b[0m                                 Traceback (most recent call last)",
      "\u001b[1;32m~\\AppData\\Local\\Temp/ipykernel_5256/3290417971.py\u001b[0m in \u001b[0;36m<module>\u001b[1;34m\u001b[0m\n\u001b[0;32m     36\u001b[0m \u001b[1;33m\u001b[0m\u001b[0m\n\u001b[0;32m     37\u001b[0m     \u001b[1;31m## Performance metrics\u001b[0m\u001b[1;33m\u001b[0m\u001b[1;33m\u001b[0m\u001b[0m\n\u001b[1;32m---> 38\u001b[1;33m     \u001b[0mreport_i\u001b[0m \u001b[1;33m=\u001b[0m \u001b[0mclassification_report\u001b[0m\u001b[1;33m(\u001b[0m\u001b[0my_test_basic\u001b[0m\u001b[1;33m,\u001b[0m \u001b[0my_pred_basic\u001b[0m\u001b[1;33m)\u001b[0m\u001b[1;33m\u001b[0m\u001b[1;33m\u001b[0m\u001b[0m\n\u001b[0m\u001b[0;32m     39\u001b[0m \u001b[1;33m\u001b[0m\u001b[0m\n\u001b[0;32m     40\u001b[0m     \u001b[0mprint\u001b[0m\u001b[1;33m(\u001b[0m\u001b[0mi\u001b[0m \u001b[1;33m+\u001b[0m \u001b[0mreport_i\u001b[0m\u001b[1;33m)\u001b[0m\u001b[1;33m\u001b[0m\u001b[1;33m\u001b[0m\u001b[0m\n",
      "\u001b[1;31mNameError\u001b[0m: name 'classification_report' is not defined"
     ]
    }
   ],
   "source": [
    "# For Neighbour models\n",
    "prediction_df = prediction_df_NBRS\n",
    "\n",
    "\n",
    "# create confusion matrix for each of the product type\n",
    "import seaborn as sns\n",
    "import matplotlib.pyplot as plt\n",
    "from sklearn.datasets import make_classification\n",
    "from sklearn.metrics import plot_confusion_matrix\n",
    "from sklearn.metrics import confusion_matrix\n",
    "from sklearn.metrics import classification_report\n",
    "product = ['Basic', 'Deluxe', 'King', 'Standard', 'Super Deluxe' ]\n",
    "\n",
    "for i in product:\n",
    "    df = prediction_df[prediction_df[i].notnull()]\n",
    "    \n",
    "    y_test_basic = df[i]\n",
    "    y_pred_basic = df[i + '_predclass']\n",
    "\n",
    "    cf_matrix = confusion_matrix(y_test_basic, y_pred_basic) \n",
    "    \n",
    "    fig, axes = plt.subplots(figsize=(4,4))\n",
    "\n",
    "    ax = sns.heatmap(cf_matrix, annot=True, cmap='Blues', ax=axes)\n",
    "    \n",
    "    ax.set_title(i+' Confusion Matrix with labels\\n\\n');\n",
    "    ax.set_xlabel('\\nPredicted Values')\n",
    "    ax.set_ylabel('Actual Values ')\n",
    "    \n",
    "    ## labels - List must be in alphabetical order\n",
    "    ax.xaxis.set_ticklabels(['False','True'])\n",
    "    ax.yaxis.set_ticklabels(['False','True'])\n",
    " \n",
    "    ## Display the visualization of the Confusion Matrix.\n",
    "    plt.tight_layout()  \n",
    "    plt.show()\n",
    "    \n",
    "    ## Performance metrics\n",
    "    report_i = classification_report(y_test_basic, y_pred_basic)\n",
    "    \n",
    "    print(i + report_i)\n",
    "    "
   ]
  },
  {
   "cell_type": "code",
   "execution_count": 27,
   "id": "2c681bff-8e59-4c08-a138-2393758f487a",
   "metadata": {},
   "outputs": [
    {
     "data": {
      "image/png": "[encoded data removed]",
      "text/plain": [
       "<Figure size 288x288 with 2 Axes>"
      ]
     },
     "metadata": {
      "needs_background": "light"
     },
     "output_type": "display_data"
    },
    {
     "name": "stdout",
     "output_type": "stream",
     "text": [
      "Basic              precision    recall  f1-score   support\n",
      "\n",
      "         0.0       0.85      0.81      0.83       246\n",
      "         1.0       0.60      0.66      0.63       106\n",
      "\n",
      "    accuracy                           0.77       352\n",
      "   macro avg       0.73      0.74      0.73       352\n",
      "weighted avg       0.77      0.77      0.77       352\n",
      "\n"
     ]
    },
    {
     "data": {
      "image/png": "[encoded data removed]",
      "text/plain": [
       "<Figure size 288x288 with 2 Axes>"
      ]
     },
     "metadata": {
      "needs_background": "light"
     },
     "output_type": "display_data"
    },
    {
     "name": "stdout",
     "output_type": "stream",
     "text": [
      "Deluxe              precision    recall  f1-score   support\n",
      "\n",
      "         0.0       0.89      0.84      0.87       308\n",
      "         1.0       0.30      0.40      0.35        52\n",
      "\n",
      "    accuracy                           0.78       360\n",
      "   macro avg       0.60      0.62      0.61       360\n",
      "weighted avg       0.81      0.78      0.79       360\n",
      "\n"
     ]
    },
    {
     "data": {
      "image/png": "[encoded data removed]",
      "text/plain": [
       "<Figure size 288x288 with 2 Axes>"
      ]
     },
     "metadata": {
      "needs_background": "light"
     },
     "output_type": "display_data"
    },
    {
     "name": "stdout",
     "output_type": "stream",
     "text": [
      "King              precision    recall  f1-score   support\n",
      "\n",
      "         0.0       0.92      1.00      0.96        44\n",
      "         1.0       1.00      0.33      0.50         6\n",
      "\n",
      "    accuracy                           0.92        50\n",
      "   macro avg       0.96      0.67      0.73        50\n",
      "weighted avg       0.93      0.92      0.90        50\n",
      "\n"
     ]
    },
    {
     "data": {
      "image/png": "[encoded data removed]",
      "text/plain": [
       "<Figure size 288x288 with 2 Axes>"
      ]
     },
     "metadata": {
      "needs_background": "light"
     },
     "output_type": "display_data"
    },
    {
     "name": "stdout",
     "output_type": "stream",
     "text": [
      "Standard              precision    recall  f1-score   support\n",
      "\n",
      "         0.0       0.90      0.79      0.84       130\n",
      "         1.0       0.21      0.37      0.26        19\n",
      "\n",
      "    accuracy                           0.74       149\n",
      "   macro avg       0.55      0.58      0.55       149\n",
      "weighted avg       0.81      0.74      0.77       149\n",
      "\n"
     ]
    },
    {
     "data": {
      "image/png": "[encoded data removed]",
      "text/plain": [
       "<Figure size 288x288 with 2 Axes>"
      ]
     },
     "metadata": {
      "needs_background": "light"
     },
     "output_type": "display_data"
    },
    {
     "name": "stdout",
     "output_type": "stream",
     "text": [
      "Super Deluxe              precision    recall  f1-score   support\n",
      "\n",
      "         0.0       0.98      0.98      0.98        61\n",
      "         1.0       0.75      0.75      0.75         4\n",
      "\n",
      "    accuracy                           0.97        65\n",
      "   macro avg       0.87      0.87      0.87        65\n",
      "weighted avg       0.97      0.97      0.97        65\n",
      "\n"
     ]
    }
   ],
   "source": [
    "# For logistic models\n",
    "prediction_df = prediction_df_MBRS\n",
    "\n",
    "\n",
    "# create confusion matrix for each of the product type\n",
    "import seaborn as sns\n",
    "import matplotlib.pyplot as plt\n",
    "from sklearn.datasets import make_classification\n",
    "from sklearn.metrics import plot_confusion_matrix\n",
    "from sklearn.metrics import confusion_matrix\n",
    "from sklearn.metrics import classification_report\n",
    "product = ['Basic', 'Deluxe', 'King', 'Standard', 'Super Deluxe' ]\n",
    "\n",
    "for i in product:\n",
    "    df = prediction_df[prediction_df[i].notnull()]\n",
    "    \n",
    "    y_test_basic = df[i]\n",
    "    y_pred_basic = df[i + '_predclass']\n",
    "\n",
    "    cf_matrix = confusion_matrix(y_test_basic, y_pred_basic) \n",
    "      \n",
    "    fig, axes = plt.subplots(figsize=(4,4))\n",
    "\n",
    "    ax = sns.heatmap(cf_matrix, annot=True, cmap='Blues', ax=axes)\n",
    "    \n",
    "    ax.set_title(i+' Confusion Matrix with labels\\n\\n');\n",
    "    ax.set_xlabel('\\nPredicted Values')\n",
    "    ax.set_ylabel('Actual Values ')\n",
    "    \n",
    "    ## labels - List must be in alphabetical order\n",
    "    ax.xaxis.set_ticklabels(['False','True'])\n",
    "    ax.yaxis.set_ticklabels(['False','True'])\n",
    " \n",
    "    ## Display the visualization of the Confusion Matrix.\n",
    "    plt.tight_layout()  \n",
    "    plt.show()\n",
    "    \n",
    "    ## Performance metrics\n",
    "    report_i = classification_report(y_test_basic, y_pred_basic)\n",
    "    \n",
    "    print(i + report_i)\n",
    "    "
   ]
  },
  {
   "cell_type": "code",
   "execution_count": 156,
   "id": "a7edca3a",
   "metadata": {},
   "outputs": [],
   "source": [
    "MBRS_accuracy = []\n",
    "NBRS_accuracy = []\n",
    "\n",
    "TN_all = 0\n",
    "TP_all = 0\n",
    "FN_all = 0\n",
    "FP_all = 0\n",
    "\n",
    "TN_all_2 = 0\n",
    "TP_all_2 = 0\n",
    "FN_all_2 = 0\n",
    "FP_all_2 = 0\n",
    "        \n",
    "for _ in range(20):\n",
    "    x = np.random.choice(df_test.index, size=500, replace=True)\n",
    "    df_test_2 = pd.DataFrame(df_test, index=x)\n",
    "    \n",
    "    #actual_df = pd.DataFrame(df, index=x, columns = ['TARGET'])\n",
    "    prediction_df_MBRS = MBRS_predict(df_test_2, numericColumn, itemColumns, MBRS_model)\n",
    "    prediction_df_NBRS = NBRS_predict(df_test_2, numericColumn, itemColumns, NBRS_model)\n",
    "    \n",
    "    #actual_2.append(actual_df)\n",
    "    #prediction_df_MBRS_2.append(prediction_df_MBRS)\n",
    "    #prediction_df_NBRS_2.append(prediction_df_NBRS)\n",
    "    \n",
    "    # create confusion matrix for each of the product type\n",
    "    import seaborn as sns\n",
    "    import matplotlib.pyplot as plt\n",
    "    from sklearn.datasets import make_classification\n",
    "    from sklearn.metrics import plot_confusion_matrix\n",
    "    from sklearn.metrics import confusion_matrix\n",
    "    from sklearn.metrics import classification_report\n",
    "    product = ['Basic', 'Deluxe', 'King', 'Standard', 'Super Deluxe' ]\n",
    "\n",
    "    for i in product:\n",
    "        df = prediction_df_MBRS[prediction_df_MBRS[i].notnull()]\n",
    "\n",
    "        y_test_basic = df[i]\n",
    "        y_pred_basic = df[i + '_predclass']\n",
    "\n",
    "        cf_matrix = confusion_matrix(y_test_basic, y_pred_basic) \n",
    "        \n",
    "        TN = cf_matrix[0,0]\n",
    "        TP = cf_matrix[1,1]\n",
    "        FN = cf_matrix[1,0]\n",
    "        FP = cf_matrix[0,1]\n",
    "        \n",
    "        TN_all = TN_all + TN\n",
    "        TP_all = TP_all + TP\n",
    "        FN_all = FN_all + FN\n",
    "        FP_all = FP_all + FP\n",
    "       \n",
    "              \n",
    "        df_2 = prediction_df_NBRS[prediction_df_NBRS[i].notnull()]\n",
    "\n",
    "        y_test_basic = df_2[i]\n",
    "        y_pred_basic = df_2[i + '_predclass']\n",
    "\n",
    "        cf_matrix_2 = confusion_matrix(y_test_basic, y_pred_basic) \n",
    "        \n",
    "        TN = cf_matrix_2[0,0]\n",
    "        TP = cf_matrix_2[1,1]\n",
    "        FN = cf_matrix_2[1,0]\n",
    "        FP = cf_matrix_2[0,1]\n",
    "        \n",
    "        TN_all_2 = TN_all_2 + TN\n",
    "        TP_all_2 = TP_all_2 + TP\n",
    "        FN_all_2 = FN_all_2 + FN\n",
    "        FP_all_2 = FP_all_2 + FP\n",
    "\n",
    "        \n",
    "    accuracy = (TP_all+TN_all)/(TP_all+TN_all+FN_all+FP_all)\n",
    "    MBRS_accuracy.append(accuracy)\n",
    "\n",
    "    accuracy = (TP_all_2+TN_all_2)/(TP_all_2+TN_all_2+FN_all_2+FP_all_2)\n",
    "    NBRS_accuracy.append(accuracy)\n",
    "                \n",
    "\n",
    " "
   ]
  },
  {
   "cell_type": "code",
   "execution_count": 157,
   "id": "669fbebc",
   "metadata": {},
   "outputs": [
    {
     "name": "stdout",
     "output_type": "stream",
     "text": [
      "[0.742, 0.761, 0.756, 0.752, 0.7496, 0.753, 0.7494285714285714, 0.75175, 0.7466666666666667, 0.7468, 0.748, 0.7485, 0.7503076923076923, 0.7524285714285714, 0.7550666666666667, 0.755375, 0.7545882352941177, 0.7552222222222222, 0.7554736842105263, 0.7558]\n",
      "[0.774, 0.774, 0.7806666666666666, 0.782, 0.7808, 0.781, 0.78, 0.7815, 0.7773333333333333, 0.7752, 0.7745454545454545, 0.7743333333333333, 0.7736923076923077, 0.774, 0.7761333333333333, 0.776375, 0.7756470588235295, 0.775, 0.7773684210526316, 0.7782]\n"
     ]
    }
   ],
   "source": [
    "print(NBRS_accuracy) \n",
    "print(MBRS_accuracy) "
   ]
  },
  {
   "cell_type": "code",
   "execution_count": 158,
   "id": "dbb131df",
   "metadata": {},
   "outputs": [
    {
     "data": {
      "text/plain": [
       "Ttest_relResult(statistic=-22.59111221794211, pvalue=3.4399987378351662e-15)"
      ]
     },
     "execution_count": 158,
     "metadata": {},
     "output_type": "execute_result"
    }
   ],
   "source": [
    "#idenpendent t-test - significant different \n",
    "from scipy import stats\n",
    "stats.ttest_rel(NBRS_accuracy, MBRS_accuracy)"
   ]
  },
  {
   "cell_type": "code",
   "execution_count": 164,
   "id": "3a1ef7a0",
   "metadata": {},
   "outputs": [
    {
     "name": "stdout",
     "output_type": "stream",
     "text": [
      "22.59111221794211 3.4399987378351662e-15\n"
     ]
    }
   ],
   "source": [
    "#one sample t-test using difference  - two-tail\n",
    "diff = pd.DataFrame(MBRS_accuracy) - pd.DataFrame(NBRS_accuracy)\n",
    "diff\n",
    "\n",
    "t_statistic, p_value = stats.ttest_1samp(a=diff[0], popmean=0)\n",
    "print(t_statistic , p_value)"
   ]
  },
  {
   "cell_type": "code",
   "execution_count": 169,
   "id": "7b2b9fa5",
   "metadata": {},
   "outputs": [
    {
     "name": "stdout",
     "output_type": "stream",
     "text": [
      "Test statistic is 22.591112\n",
      "p-value for one tailed test is 0.000000\n"
     ]
    }
   ],
   "source": [
    "#one sample t-test using difference  - one tail\n",
    "from scipy import stats\n",
    "\n",
    "t_value,p_value=stats.ttest_1samp(diff,0)\n",
    "\n",
    "one_tailed_p_value=(p_value/2) # Since alternative hypothesis is one tailed, We need to divide the p value by 2.\n",
    "\n",
    "print('Test statistic is %f'% (t_value))\n",
    "\n",
    "print('p-value for one tailed test is %f'%one_tailed_p_value)\n"
   ]
  },
  {
   "cell_type": "markdown",
   "id": "ed910c34",
   "metadata": {},
   "source": [
    "MBRS is significantly better than NBRS."
   ]
  }
 ],
 "metadata": {
  "kernelspec": {
   "display_name": "Python 3 (ipykernel)",
   "language": "python",
   "name": "python3"
  },
  "language_info": {
   "codemirror_mode": {
    "name": "ipython",
    "version": 3
   },
   "file_extension": ".py",
   "mimetype": "text/x-python",
   "name": "python",
   "nbconvert_exporter": "python",
   "pygments_lexer": "ipython3",
   "version": "3.9.7"
  }
 },
 "nbformat": 4,
 "nbformat_minor": 5
}
